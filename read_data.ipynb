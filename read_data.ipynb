{
 "cells": [
  {
   "cell_type": "code",
   "execution_count": 1,
   "metadata": {},
   "outputs": [],
   "source": [
    "import pandas\n",
    "import os"
   ]
  },
  {
   "cell_type": "code",
   "execution_count": 4,
   "metadata": {},
   "outputs": [],
   "source": [
    "#Listing titles data\n",
    "listing_titles = pandas.read_csv(\"./Data/Listing_Titles.tsv\", sep=\"\\t\", header=0)\n"
   ]
  },
  {
   "cell_type": "code",
   "execution_count": 5,
   "metadata": {},
   "outputs": [
    {
     "data": {
      "text/html": [
       "<div>\n",
       "<style scoped>\n",
       "    .dataframe tbody tr th:only-of-type {\n",
       "        vertical-align: middle;\n",
       "    }\n",
       "\n",
       "    .dataframe tbody tr th {\n",
       "        vertical-align: top;\n",
       "    }\n",
       "\n",
       "    .dataframe thead th {\n",
       "        text-align: right;\n",
       "    }\n",
       "</style>\n",
       "<table border=\"1\" class=\"dataframe\">\n",
       "  <thead>\n",
       "    <tr style=\"text-align: right;\">\n",
       "      <th></th>\n",
       "      <th>Record Number</th>\n",
       "      <th>Title</th>\n",
       "    </tr>\n",
       "  </thead>\n",
       "  <tbody>\n",
       "    <tr>\n",
       "      <th>0</th>\n",
       "      <td>1</td>\n",
       "      <td>Supreme Nike SB Dunk High By any Means Red US1...</td>\n",
       "    </tr>\n",
       "    <tr>\n",
       "      <th>1</th>\n",
       "      <td>2</td>\n",
       "      <td>New Balance 530 Männer und Frauen Laufschuhe m...</td>\n",
       "    </tr>\n",
       "    <tr>\n",
       "      <th>2</th>\n",
       "      <td>3</td>\n",
       "      <td>♥ MICHAEL KORS Sneaker Gr 39 ♥</td>\n",
       "    </tr>\n",
       "    <tr>\n",
       "      <th>3</th>\n",
       "      <td>4</td>\n",
       "      <td>New Balance ML 574 EGO Turnschuhe grün</td>\n",
       "    </tr>\n",
       "    <tr>\n",
       "      <th>4</th>\n",
       "      <td>5</td>\n",
       "      <td>Nike air jordan 9 og , space jam , hare , bugs...</td>\n",
       "    </tr>\n",
       "  </tbody>\n",
       "</table>\n",
       "</div>"
      ],
      "text/plain": [
       "   Record Number                                              Title\n",
       "0              1  Supreme Nike SB Dunk High By any Means Red US1...\n",
       "1              2  New Balance 530 Männer und Frauen Laufschuhe m...\n",
       "2              3                     ♥ MICHAEL KORS Sneaker Gr 39 ♥\n",
       "3              4             New Balance ML 574 EGO Turnschuhe grün\n",
       "4              5  Nike air jordan 9 og , space jam , hare , bugs..."
      ]
     },
     "execution_count": 5,
     "metadata": {},
     "output_type": "execute_result"
    }
   ],
   "source": [
    "listing_titles.head()"
   ]
  },
  {
   "cell_type": "code",
   "execution_count": 8,
   "metadata": {},
   "outputs": [],
   "source": [
    "#Training data for Tagged_Titles\n",
    "Train_Tagged_Titles = pandas.read_csv(\"./Data/Train_Tagged_Titles.csv\")"
   ]
  },
  {
   "cell_type": "code",
   "execution_count": 9,
   "metadata": {},
   "outputs": [
    {
     "data": {
      "text/html": [
       "<div>\n",
       "<style scoped>\n",
       "    .dataframe tbody tr th:only-of-type {\n",
       "        vertical-align: middle;\n",
       "    }\n",
       "\n",
       "    .dataframe tbody tr th {\n",
       "        vertical-align: top;\n",
       "    }\n",
       "\n",
       "    .dataframe thead th {\n",
       "        text-align: right;\n",
       "    }\n",
       "</style>\n",
       "<table border=\"1\" class=\"dataframe\">\n",
       "  <thead>\n",
       "    <tr style=\"text-align: right;\">\n",
       "      <th></th>\n",
       "      <th>Record Number</th>\n",
       "      <th>Title</th>\n",
       "      <th>Token</th>\n",
       "      <th>Tag</th>\n",
       "      <th>Unnamed: 4</th>\n",
       "    </tr>\n",
       "  </thead>\n",
       "  <tbody>\n",
       "    <tr>\n",
       "      <th>0</th>\n",
       "      <td>1</td>\n",
       "      <td>Supreme Nike SB Dunk High By any Means Red US1...</td>\n",
       "      <td>Supreme</td>\n",
       "      <td>Modell</td>\n",
       "      <td>NaN</td>\n",
       "    </tr>\n",
       "    <tr>\n",
       "      <th>1</th>\n",
       "      <td>1</td>\n",
       "      <td>Supreme Nike SB Dunk High By any Means Red US1...</td>\n",
       "      <td>Nike</td>\n",
       "      <td>Marke</td>\n",
       "      <td>NaN</td>\n",
       "    </tr>\n",
       "    <tr>\n",
       "      <th>2</th>\n",
       "      <td>1</td>\n",
       "      <td>Supreme Nike SB Dunk High By any Means Red US1...</td>\n",
       "      <td>SB</td>\n",
       "      <td>Produktlinie</td>\n",
       "      <td>NaN</td>\n",
       "    </tr>\n",
       "    <tr>\n",
       "      <th>3</th>\n",
       "      <td>1</td>\n",
       "      <td>Supreme Nike SB Dunk High By any Means Red US1...</td>\n",
       "      <td>Dunk</td>\n",
       "      <td>NaN</td>\n",
       "      <td>NaN</td>\n",
       "    </tr>\n",
       "    <tr>\n",
       "      <th>4</th>\n",
       "      <td>1</td>\n",
       "      <td>Supreme Nike SB Dunk High By any Means Red US1...</td>\n",
       "      <td>High</td>\n",
       "      <td>Schuhschaft-Typ</td>\n",
       "      <td>NaN</td>\n",
       "    </tr>\n",
       "  </tbody>\n",
       "</table>\n",
       "</div>"
      ],
      "text/plain": [
       "   Record Number                                              Title    Token  \\\n",
       "0              1  Supreme Nike SB Dunk High By any Means Red US1...  Supreme   \n",
       "1              1  Supreme Nike SB Dunk High By any Means Red US1...     Nike   \n",
       "2              1  Supreme Nike SB Dunk High By any Means Red US1...       SB   \n",
       "3              1  Supreme Nike SB Dunk High By any Means Red US1...     Dunk   \n",
       "4              1  Supreme Nike SB Dunk High By any Means Red US1...     High   \n",
       "\n",
       "               Tag Unnamed: 4  \n",
       "0           Modell        NaN  \n",
       "1            Marke        NaN  \n",
       "2     Produktlinie        NaN  \n",
       "3              NaN        NaN  \n",
       "4  Schuhschaft-Typ        NaN  "
      ]
     },
     "execution_count": 9,
     "metadata": {},
     "output_type": "execute_result"
    }
   ],
   "source": [
    "Train_Tagged_Titles.head()"
   ]
  },
  {
   "cell_type": "code",
   "execution_count": null,
   "metadata": {},
   "outputs": [],
   "source": [
    "!pip install spacy\n",
    "import spacy\n",
    "import csv\n",
    "\n",
    "# Load the pre-trained SpaCy model\n",
    "nlp = spacy.load(\"en_core_web_sm\")"
   ]
  },
  {
   "cell_type": "code",
   "execution_count": null,
   "metadata": {},
   "outputs": [],
   "source": [
    "# Open the input files\n",
    "with open(\"Train_Tagged_Titles.tsv\", \"r\", encoding=\"utf-8\") as train_file, \\\n",
    "        open(\"Listing_Titles.tsv\", \"r\", encoding=\"utf-8\") as listing_file:\n",
    "\n",
    "    train_reader = csv.reader(train_file, delimiter=\",\")\n",
    "    listing_reader = csv.reader(listing_file, delimiter=\",\")\n",
    "\n",
    "    # Skip the header row\n",
    "    next(train_reader)\n",
    "    next(listing_reader)\n",
    "\n",
    "    # Create an output file to store the extracted and labeled aspects\n",
    "    with open(\"Extracted_Aspects.tsv\", \"w\", encoding=\"utf-8\", newline=\"\") as output_file:\n",
    "        writer = csv.writer(output_file, delimiter=\"\\t\")\n",
    "        writer.writerow([\"Record Number\", \"Title\", \"Token\", \"Tag\"])\n",
    "\n",
    "        # Process each row in the train file\n",
    "        for row in train_reader:\n",
    "            record_number = row[0]\n",
    "            title = row[1]\n",
    "\n",
    "            # Apply NER on the title\n",
    "            doc = nlp(title)\n",
    "\n",
    "            # Extract and label the aspects\n",
    "            for token in doc:\n",
    "                token_text = token.text\n",
    "                token_tag = token.ent_type_\n",
    "\n",
    "                if token_tag != \"\":\n",
    "                    writer.writerow([record_number, title, token_text, token_tag])\n",
    "\n",
    "        # Process each row in the listing file\n",
    "        for row in listing_reader:\n",
    "            record_number = row[0]\n",
    "            title = row[1]\n",
    "\n",
    "            # Apply NER on the title\n",
    "            doc = nlp(title)\n",
    "\n",
    "            # Extract and label the aspects\n",
    "            for token in doc:\n",
    "                token_text = token.text\n",
    "                token_tag = token.ent_type_\n",
    "\n",
    "                if token_tag != \"\":\n",
    "                    writer.writerow([record_number, title, token_text, token_tag])"
   ]
  },
  {
   "cell_type": "code",
   "execution_count": null,
   "metadata": {},
   "outputs": [],
   "source": [
    "print(\"Aspect extraction and labeling completed.\")"
   ]
  }
 ],
 "metadata": {
  "kernelspec": {
   "display_name": "Python 3",
   "language": "python",
   "name": "python3"
  },
  "language_info": {
   "codemirror_mode": {
    "name": "ipython",
    "version": 3
   },
   "file_extension": ".py",
   "mimetype": "text/x-python",
   "name": "python",
   "nbconvert_exporter": "python",
   "pygments_lexer": "ipython3",
   "version": "3.10.9"
  },
  "orig_nbformat": 4
 },
 "nbformat": 4,
 "nbformat_minor": 2
}
